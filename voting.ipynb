{
 "cells": [
  {
   "cell_type": "code",
   "execution_count": 29,
   "metadata": {},
   "outputs": [],
   "source": [
    "import pandas as pd\n",
    "import numpy as np\n",
    "from scipy.stats import mode\n",
    "from data_loader import load_data\n",
    "import os"
   ]
  },
  {
   "cell_type": "code",
   "execution_count": 30,
   "metadata": {},
   "outputs": [
    {
     "name": "stderr",
     "output_type": "stream",
     "text": [
      "/tmp/ipykernel_748300/4196565183.py:12: FutureWarning: Unlike other reduction functions (e.g. `skew`, `kurtosis`), the default behavior of `mode` typically preserves the axis it acts along. In SciPy 1.11.0, this behavior will change: the default value of `keepdims` will become False, the `axis` over which the statistic is taken will be eliminated, and the value None will no longer be accepted. Set `keepdims` to True or False to avoid this warning.\n",
      "  indices: np.ndarray = mode(np.array(preds))[0].reshape(-1)\n"
     ]
    }
   ],
   "source": [
    "dirpath = \"outputs\"\n",
    "preds = []\n",
    "for filename in os.listdir(dirpath):\n",
    "    filepath = os.path.join(dirpath, filename)\n",
    "    if os.path.isfile(filepath):\n",
    "        try:\n",
    "            # TODO: change threshold\n",
    "            if int(filepath.rstrip(\".csv\").lstrip(\"ouptuts/output.\")) > 826:\n",
    "                preds.append(pd.read_csv(filepath)[\"Predict\"])\n",
    "        except:\n",
    "            pass\n",
    "\n",
    "indices: np.ndarray = mode(np.array(preds))[0].reshape(-1)"
   ]
  },
  {
   "cell_type": "code",
   "execution_count": 31,
   "metadata": {},
   "outputs": [
    {
     "name": "stdout",
     "output_type": "stream",
     "text": [
      "  NumNodes: 19717\n",
      "  NumEdges: 88651\n",
      "  NumFeats: 500\n",
      "  NumClasses: 3\n",
      "  NumTrainingSamples: 60\n",
      "  NumValidationSamples: 500\n",
      "  NumTestSamples: 1000\n",
      "Done loading data from cached files.\n",
      "Accuracy: 0.843\n"
     ]
    }
   ],
   "source": [
    "# TODO\n",
    "def eval(indices):\n",
    "    import dgl\n",
    "    from data_loader import load_data\n",
    "    from sklearn.metrics import accuracy_score\n",
    "    features, graph, num_classes, \\\n",
    "        train_labels, val_labels, test_labels, \\\n",
    "        train_mask, val_mask, test_mask = load_data()\n",
    "\n",
    "    _dataset = dgl.data.PubmedGraphDataset()\n",
    "    test_labels = _dataset[0].ndata['label'][test_mask].numpy()\n",
    "    return accuracy_score(test_labels, indices)\n",
    "\n",
    "\n",
    "print(f\"Accuracy: {eval(indices)}\")"
   ]
  },
  {
   "cell_type": "code",
   "execution_count": 32,
   "metadata": {},
   "outputs": [],
   "source": [
    "def write_output(indices, filename='outputs/output.csv'):\n",
    "    # Export predictions as csv file\n",
    "    with open(filename, 'w') as f:\n",
    "        f.write('Id,Predict\\n')\n",
    "        for idx, pred in enumerate(indices):\n",
    "            f.write(f'{idx},{int(pred)}\\n')\n",
    "    # Please remember to upload your output.csv file to Kaggle for scoring\n",
    "\n",
    "\n",
    "write_output(indices, \"outputs/output.csv\")"
   ]
  }
 ],
 "metadata": {
  "kernelspec": {
   "display_name": "pytorch",
   "language": "python",
   "name": "python3"
  },
  "language_info": {
   "codemirror_mode": {
    "name": "ipython",
    "version": 3
   },
   "file_extension": ".py",
   "mimetype": "text/x-python",
   "name": "python",
   "nbconvert_exporter": "python",
   "pygments_lexer": "ipython3",
   "version": "3.10.11"
  },
  "orig_nbformat": 4
 },
 "nbformat": 4,
 "nbformat_minor": 2
}
